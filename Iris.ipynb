{
 "cells": [
  {
   "cell_type": "code",
   "execution_count": 1,
   "id": "aa7e7a46",
   "metadata": {},
   "outputs": [],
   "source": [
    "from sklearn.cluster import KMeans\n",
    "import numpy as np\n",
    "import pandas as pd\n",
    "from sklearn.preprocessing import LabelEncoder\n",
    "from matplotlib import pyplot as plt\n",
    "from sklearn.cluster import DBSCAN\n",
    "from sklearn import metrics\n",
    "from sklearn.model_selection import train_test_split\n",
    "from sklearn.cluster import AgglomerativeClustering\n",
    "import scipy.cluster.hierarchy as sch\n",
    "import warnings\n",
    "from time import time"
   ]
  },
  {
   "cell_type": "code",
   "execution_count": 2,
   "id": "bb972c1b",
   "metadata": {},
   "outputs": [
    {
     "data": {
      "text/html": [
       "<div>\n",
       "<style scoped>\n",
       "    .dataframe tbody tr th:only-of-type {\n",
       "        vertical-align: middle;\n",
       "    }\n",
       "\n",
       "    .dataframe tbody tr th {\n",
       "        vertical-align: top;\n",
       "    }\n",
       "\n",
       "    .dataframe thead th {\n",
       "        text-align: right;\n",
       "    }\n",
       "</style>\n",
       "<table border=\"1\" class=\"dataframe\">\n",
       "  <thead>\n",
       "    <tr style=\"text-align: right;\">\n",
       "      <th></th>\n",
       "      <th>sepal_length</th>\n",
       "      <th>sepal_width</th>\n",
       "      <th>petal_length</th>\n",
       "      <th>petal_width</th>\n",
       "      <th>cluster</th>\n",
       "    </tr>\n",
       "  </thead>\n",
       "  <tbody>\n",
       "    <tr>\n",
       "      <th>0</th>\n",
       "      <td>5.1</td>\n",
       "      <td>3.5</td>\n",
       "      <td>1.4</td>\n",
       "      <td>0.2</td>\n",
       "      <td>Iris-setosa</td>\n",
       "    </tr>\n",
       "    <tr>\n",
       "      <th>1</th>\n",
       "      <td>4.9</td>\n",
       "      <td>3.0</td>\n",
       "      <td>1.4</td>\n",
       "      <td>0.2</td>\n",
       "      <td>Iris-setosa</td>\n",
       "    </tr>\n",
       "    <tr>\n",
       "      <th>2</th>\n",
       "      <td>4.7</td>\n",
       "      <td>3.2</td>\n",
       "      <td>1.3</td>\n",
       "      <td>0.2</td>\n",
       "      <td>Iris-setosa</td>\n",
       "    </tr>\n",
       "    <tr>\n",
       "      <th>3</th>\n",
       "      <td>4.6</td>\n",
       "      <td>3.1</td>\n",
       "      <td>1.5</td>\n",
       "      <td>0.2</td>\n",
       "      <td>Iris-setosa</td>\n",
       "    </tr>\n",
       "    <tr>\n",
       "      <th>4</th>\n",
       "      <td>5.0</td>\n",
       "      <td>3.6</td>\n",
       "      <td>1.4</td>\n",
       "      <td>0.2</td>\n",
       "      <td>Iris-setosa</td>\n",
       "    </tr>\n",
       "    <tr>\n",
       "      <th>...</th>\n",
       "      <td>...</td>\n",
       "      <td>...</td>\n",
       "      <td>...</td>\n",
       "      <td>...</td>\n",
       "      <td>...</td>\n",
       "    </tr>\n",
       "    <tr>\n",
       "      <th>145</th>\n",
       "      <td>6.7</td>\n",
       "      <td>3.0</td>\n",
       "      <td>5.2</td>\n",
       "      <td>2.3</td>\n",
       "      <td>Iris-virginica</td>\n",
       "    </tr>\n",
       "    <tr>\n",
       "      <th>146</th>\n",
       "      <td>6.3</td>\n",
       "      <td>2.5</td>\n",
       "      <td>5.0</td>\n",
       "      <td>1.9</td>\n",
       "      <td>Iris-virginica</td>\n",
       "    </tr>\n",
       "    <tr>\n",
       "      <th>147</th>\n",
       "      <td>6.5</td>\n",
       "      <td>3.0</td>\n",
       "      <td>5.2</td>\n",
       "      <td>2.0</td>\n",
       "      <td>Iris-virginica</td>\n",
       "    </tr>\n",
       "    <tr>\n",
       "      <th>148</th>\n",
       "      <td>6.2</td>\n",
       "      <td>3.4</td>\n",
       "      <td>5.4</td>\n",
       "      <td>2.3</td>\n",
       "      <td>Iris-virginica</td>\n",
       "    </tr>\n",
       "    <tr>\n",
       "      <th>149</th>\n",
       "      <td>5.9</td>\n",
       "      <td>3.0</td>\n",
       "      <td>5.1</td>\n",
       "      <td>1.8</td>\n",
       "      <td>Iris-virginica</td>\n",
       "    </tr>\n",
       "  </tbody>\n",
       "</table>\n",
       "<p>150 rows × 5 columns</p>\n",
       "</div>"
      ],
      "text/plain": [
       "     sepal_length  sepal_width  petal_length  petal_width         cluster\n",
       "0             5.1          3.5           1.4          0.2     Iris-setosa\n",
       "1             4.9          3.0           1.4          0.2     Iris-setosa\n",
       "2             4.7          3.2           1.3          0.2     Iris-setosa\n",
       "3             4.6          3.1           1.5          0.2     Iris-setosa\n",
       "4             5.0          3.6           1.4          0.2     Iris-setosa\n",
       "..            ...          ...           ...          ...             ...\n",
       "145           6.7          3.0           5.2          2.3  Iris-virginica\n",
       "146           6.3          2.5           5.0          1.9  Iris-virginica\n",
       "147           6.5          3.0           5.2          2.0  Iris-virginica\n",
       "148           6.2          3.4           5.4          2.3  Iris-virginica\n",
       "149           5.9          3.0           5.1          1.8  Iris-virginica\n",
       "\n",
       "[150 rows x 5 columns]"
      ]
     },
     "execution_count": 2,
     "metadata": {},
     "output_type": "execute_result"
    }
   ],
   "source": [
    "warnings.filterwarnings(\"ignore\")\n",
    "iris_data = pd.read_csv('iris.data', header = None)\n",
    "iris_data.columns = ['sepal_length',\n",
    "               'sepal_width',\n",
    "               'petal_length',\n",
    "               'petal_width',\n",
    "                'cluster']\n",
    "iris_data"
   ]
  },
  {
   "cell_type": "code",
   "execution_count": 3,
   "id": "1ec52f3f",
   "metadata": {},
   "outputs": [
    {
     "name": "stdout",
     "output_type": "stream",
     "text": [
      "<class 'pandas.core.frame.DataFrame'>\n",
      "RangeIndex: 150 entries, 0 to 149\n",
      "Data columns (total 5 columns):\n",
      " #   Column        Non-Null Count  Dtype\n",
      "---  ------        --------------  -----\n",
      " 0   sepal_length  150 non-null    int64\n",
      " 1   sepal_width   150 non-null    int64\n",
      " 2   petal_length  150 non-null    int64\n",
      " 3   petal_width   150 non-null    int64\n",
      " 4   cluster       150 non-null    int32\n",
      "dtypes: int32(1), int64(4)\n",
      "memory usage: 5.4 KB\n"
     ]
    }
   ],
   "source": [
    "#資料前處理\n",
    "le=LabelEncoder()\n",
    "for col in iris_data[['cluster', 'sepal_length', 'sepal_width', 'petal_length', 'petal_width']]:\n",
    "    iris_data[col]=le.fit_transform(iris_data[col])\n",
    "iris_data.info()"
   ]
  },
  {
   "cell_type": "code",
   "execution_count": 4,
   "id": "d440f9d9",
   "metadata": {},
   "outputs": [],
   "source": [
    "t= time()"
   ]
  },
  {
   "cell_type": "code",
   "execution_count": 5,
   "id": "09abc0c8",
   "metadata": {},
   "outputs": [],
   "source": [
    "X= iris_data.drop('cluster', axis= 1)\n",
    "Y= iris_data['cluster']"
   ]
  },
  {
   "cell_type": "code",
   "execution_count": 6,
   "id": "c251a3c0",
   "metadata": {},
   "outputs": [],
   "source": [
    "#求眾數\n",
    "def mode(a):\n",
    "    counts = np.bincount(a)  \n",
    "    return np.argmax(counts)"
   ]
  },
  {
   "cell_type": "code",
   "execution_count": 7,
   "id": "7cdddff3",
   "metadata": {},
   "outputs": [],
   "source": [
    "#purity計算\n",
    "def purity_score(y_true, y_pred):\n",
    "    contingency_matrix = metrics.cluster.contingency_matrix(y_true, y_pred)\n",
    "    return np.sum(np.amax(contingency_matrix, axis=0)) / np.sum(contingency_matrix)"
   ]
  },
  {
   "cell_type": "code",
   "execution_count": 8,
   "id": "79012bae",
   "metadata": {},
   "outputs": [],
   "source": [
    "def Cen():\n",
    "    Centroids = (X.sample(n=3))\n",
    "\n",
    "\n",
    "    diff = 1\n",
    "    j=0\n",
    "\n",
    "    while(diff!=0):\n",
    "        XD=X\n",
    "        i=1\n",
    "        for index1,row_c in Centroids.iterrows():\n",
    "            ED=[]\n",
    "            for index2,row_d in XD.iterrows():\n",
    "                d1=(row_c[\"petal_length\"]-row_d[\"petal_length\"])**2\n",
    "                d2=(row_c[\"petal_width\"]-row_d[\"petal_width\"])**2\n",
    "                d=np.sqrt(d1+d2)\n",
    "                ED.append(d)\n",
    "            X[i]=ED\n",
    "            i=i+1\n",
    "\n",
    "        C=[]\n",
    "        for index,row in X.iterrows():\n",
    "            min_dist=row[1]\n",
    "            pos=1\n",
    "            for i in range(3):\n",
    "                if row[i+1] < min_dist:\n",
    "                    min_dist = row[i+1]\n",
    "                    pos=i+1\n",
    "            C.append(pos)\n",
    "        X[\"cluster\"]=C\n",
    "        Centroids_new = X.groupby([\"cluster\"]).mean()[[\"petal_width\",\"petal_length\"]]\n",
    "        if j == 0:\n",
    "            diff=1\n",
    "            j=j+1\n",
    "        else:\n",
    "            diff = (Centroids_new['petal_width'] - Centroids['petal_width']).sum() + (Centroids_new['petal_length'] - Centroids['petal_length']).sum()\n",
    "            print(diff.sum())\n",
    "        Centroids = X.groupby([\"cluster\"]).mean()[[\"petal_width\",\"petal_length\"]]"
   ]
  },
  {
   "cell_type": "code",
   "execution_count": 9,
   "id": "731e3f5b",
   "metadata": {},
   "outputs": [
    {
     "data": {
      "image/png": "[encoded data removed]",
      "text/plain": [
       "<Figure size 432x288 with 1 Axes>"
      ]
     },
     "metadata": {
      "needs_background": "light"
     },
     "output_type": "display_data"
    },
    {
     "name": "stdout",
     "output_type": "stream",
     "text": [
      "Purity: 0.8666666666666667\n",
      "done in 0.21984076499938965 seconds\n"
     ]
    }
   ],
   "source": [
    "#資料分三群\n",
    "\n",
    "kmeans = KMeans(n_clusters=3)\n",
    "kmeans.fit(X)\n",
    "\n",
    "centers = kmeans.cluster_centers_\n",
    "for i in range(3):\n",
    "        index = Y == i\n",
    "        p = kmeans.predict(X)\n",
    "        pp = mode(p) \n",
    "        # 相應的調整類別標號，以正確預測\n",
    "\n",
    "K_y_pre = kmeans.predict(X)\n",
    "\n",
    "x0 = X[K_y_pre == 0]\n",
    "x1 = X[K_y_pre == 1]\n",
    "x2 = X[K_y_pre == 2]\n",
    "plt.scatter(x0['petal_length'], x0['petal_width'], c=\"red\", marker='o', label='cluster1')  \n",
    "plt.scatter(x1['petal_length'], x1['petal_width'], c=\"green\", marker='*', label='cluster2')  \n",
    "plt.scatter(x2['petal_length'], x2['petal_width'], c=\"blue\", marker='+', label='cluster3')  \n",
    "plt.xlabel('petal_length')  \n",
    "plt.ylabel('petal_width')  \n",
    "plt.legend(loc=2)  \n",
    "plt.show()  \n",
    "\n",
    "####################################################\n",
    "#純度\n",
    "K_purity = purity_score(Y, K_y_pre)\n",
    "print('Purity:', K_purity)\n",
    "####################################################\n",
    "#時間\n",
    "print(\"done in {0} seconds\".format(time() - t))"
   ]
  },
  {
   "cell_type": "code",
   "execution_count": 10,
   "id": "82cab386",
   "metadata": {},
   "outputs": [
    {
     "data": {
      "image/png": "[encoded data removed]",
      "text/plain": [
       "<Figure size 432x288 with 1 Axes>"
      ]
     },
     "metadata": {
      "needs_background": "light"
     },
     "output_type": "display_data"
    },
    {
     "data": {
      "image/png": "[encoded data removed]",
      "text/plain": [
       "<Figure size 432x288 with 1 Axes>"
      ]
     },
     "metadata": {
      "needs_background": "light"
     },
     "output_type": "display_data"
    },
    {
     "name": "stdout",
     "output_type": "stream",
     "text": [
      "Purity: 0.84\n",
      "done in 0.4629395008087158 seconds\n"
     ]
    }
   ],
   "source": [
    "dbscan = DBSCAN(eps=3, min_samples=3)\n",
    "dbscan.fit(X)\n",
    "label_pred = dbscan.labels_\n",
    "\n",
    "DB_purity = purity_score(Y, label_pred)\n",
    "\n",
    "x0 = X[label_pred == 0]\n",
    "x1 = X[label_pred == 1]\n",
    "x2 = X[label_pred == 2]\n",
    "plt.scatter(x0['petal_length'], x0['petal_width'], c=\"red\", marker='o', label='cluster1')  \n",
    "plt.scatter(x1['petal_length'], x1['petal_width'], c=\"green\", marker='*', label='cluster2')  \n",
    "plt.scatter(x2['petal_length'], x2['petal_width'], c=\"blue\", marker='+', label='cluster3')  \n",
    "plt.xlabel('petal_length')  \n",
    "plt.ylabel('petal_width')  \n",
    "plt.legend(loc=2)  \n",
    "plt.show()  \n",
    "plt.scatter(X['petal_length'], X['petal_width'], c=\"red\", marker='o', label='SEE')  \n",
    "plt.xlabel('petal_length')  \n",
    "plt.ylabel('petal_width')  \n",
    "plt.legend(loc=2)  \n",
    "plt.show()  \n",
    "\n",
    "print('Purity:', DB_purity)\n",
    "\n",
    "####################################################\n",
    "#時間\n",
    "print(\"done in {0} seconds\".format(time() - t))"
   ]
  },
  {
   "cell_type": "code",
   "execution_count": null,
   "id": "84099688",
   "metadata": {},
   "outputs": [],
   "source": []
  },
  {
   "cell_type": "code",
   "execution_count": 11,
   "id": "46200adc",
   "metadata": {},
   "outputs": [
    {
     "name": "stdout",
     "output_type": "stream",
     "text": [
      "<matplotlib.collections.PathCollection object at 0x000002DEB04056C8>\n",
      "Purity: 0.8933333333333333\n",
      "done in 0.49113035202026367 seconds\n"
     ]
    },
    {
     "data": {
      "image/png": "[encoded data removed]",
      "text/plain": [
       "<Figure size 432x288 with 1 Axes>"
      ]
     },
     "metadata": {
      "needs_background": "light"
     },
     "output_type": "display_data"
    }
   ],
   "source": [
    "#階層式分群\n",
    "ml=AgglomerativeClustering(n_clusters=3,affinity='euclidean',linkage='ward')\n",
    "ml.fit_predict(X)\n",
    "c=ml.fit_predict(X)\n",
    "print(plt.scatter(X['petal_length'],X['petal_width'],c=ml.fit_predict(X)))\n",
    "H_purity = purity_score(Y, c)\n",
    "print('Purity:', H_purity)\n",
    "\n",
    "####################################################\n",
    "#時間\n",
    "print(\"done in {0} seconds\".format(time() - t))"
   ]
  },
  {
   "cell_type": "code",
   "execution_count": 12,
   "id": "58bd6481",
   "metadata": {},
   "outputs": [
    {
     "name": "stdout",
     "output_type": "stream",
     "text": [
      "Text(0.5, 1.0, 'Hierarchical Clustering')\n"
     ]
    },
    {
     "data": {
      "image/png": "[encoded data removed]",
      "text/plain": [
       "<Figure size 432x288 with 1 Axes>"
      ]
     },
     "metadata": {
      "needs_background": "light"
     },
     "output_type": "display_data"
    }
   ],
   "source": [
    "#分層樹\n",
    "dis=sch.linkage(X,metric='euclidean',method='ward')\n",
    "sch.dendrogram(dis)\n",
    "print(plt.title('Hierarchical Clustering'))"
   ]
  },
  {
   "cell_type": "code",
   "execution_count": 13,
   "id": "4c98b22f",
   "metadata": {},
   "outputs": [
    {
     "data": {
      "image/png": "[encoded data removed]",
      "text/plain": [
       "<Figure size 432x288 with 1 Axes>"
      ]
     },
     "metadata": {
      "needs_background": "light"
     },
     "output_type": "display_data"
    }
   ],
   "source": [
    "distortions = []\n",
    "for i in range(1,8):\n",
    "    km= KMeans(n_clusters = i, init= \"k-means++\", n_init= 10, max_iter= 300, tol= 1e-4, random_state= 0)\n",
    "    km.fit(X)\n",
    "    distortions.append(km.inertia_)\n",
    "    \n",
    "plt.plot(range(1,8), distortions)\n",
    "plt.xlabel(\"Number of Clusters\")\n",
    "plt.ylabel(\"SSE\")\n",
    "plt.show()"
   ]
  },
  {
   "cell_type": "code",
   "execution_count": null,
   "id": "2af1af48",
   "metadata": {},
   "outputs": [],
   "source": []
  },
  {
   "cell_type": "code",
   "execution_count": null,
   "id": "0e167586",
   "metadata": {},
   "outputs": [],
   "source": []
  }
 ],
 "metadata": {
  "kernelspec": {
   "display_name": "Python 3",
   "language": "python",
   "name": "python3"
  },
  "language_info": {
   "codemirror_mode": {
    "name": "ipython",
    "version": 3
   },
   "file_extension": ".py",
   "mimetype": "text/x-python",
   "name": "python",
   "nbconvert_exporter": "python",
   "pygments_lexer": "ipython3",
   "version": "3.7.10"
  }
 },
 "nbformat": 4,
 "nbformat_minor": 5
}
